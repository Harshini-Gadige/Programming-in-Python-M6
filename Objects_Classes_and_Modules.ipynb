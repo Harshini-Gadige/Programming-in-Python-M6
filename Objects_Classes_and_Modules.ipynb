{
  "nbformat": 4,
  "nbformat_minor": 0,
  "metadata": {
    "colab": {
      "name": "Objects Classes and Modules.ipynb",
      "version": "0.3.2",
      "provenance": []
    },
    "kernelspec": {
      "name": "python3",
      "display_name": "Python 3"
    }
  },
  "cells": [
    {
      "metadata": {
        "id": "FR8Kj8KgZ74S",
        "colab_type": "text"
      },
      "cell_type": "markdown",
      "source": [
        "**1) Vectors**"
      ]
    },
    {
      "metadata": {
        "id": "Xsbxf2wZ2rnH",
        "colab_type": "code",
        "colab": {}
      },
      "cell_type": "code",
      "source": [
        "class Vector(object):\n",
        "    def __init__(self, x, y):\n",
        "        self.x = x\n",
        "        self.y = y\n",
        "        \n",
        "    def add(self, vector):\n",
        "        return Vector(self.x + vector.x, self.y + vector.y)"
      ],
      "execution_count": 0,
      "outputs": []
    },
    {
      "metadata": {
        "id": "eQ7T5em-aBr-",
        "colab_type": "code",
        "colab": {}
      },
      "cell_type": "code",
      "source": [
        ""
      ],
      "execution_count": 0,
      "outputs": []
    },
    {
      "metadata": {
        "id": "L5wVBZMPaEW4",
        "colab_type": "text"
      },
      "cell_type": "markdown",
      "source": [
        "**2) Puzzlebox**"
      ]
    },
    {
      "metadata": {
        "id": "yXMh7BB0aJow",
        "colab_type": "code",
        "colab": {}
      },
      "cell_type": "code",
      "source": [
        "def answer(puzzlebox):\n",
        "    #print(dir(puzzlebox))\n",
        "    #puzzlebox.hint\n",
        "    #print(puzzlebox.hint_two)\n",
        "    #print(puzzlebox.lock(puzzlebox.key))\n",
        "    return 42\n",
        "    pass"
      ],
      "execution_count": 0,
      "outputs": []
    },
    {
      "metadata": {
        "id": "c97zPNbKaP1a",
        "colab_type": "text"
      },
      "cell_type": "markdown",
      "source": [
        "**3) Quarks**"
      ]
    },
    {
      "metadata": {
        "id": "cygIlnWQaUGx",
        "colab_type": "code",
        "colab": {}
      },
      "cell_type": "code",
      "source": [
        "class Quark(object):\n",
        "    def __init__(self, color, flavor):\n",
        "        self.color, self.flavor, self.baryon_number = color, flavor, 1/3.\n",
        "    def interact(self, other):\n",
        "        self.color, other.color = other.color, self.color"
      ],
      "execution_count": 0,
      "outputs": []
    },
    {
      "metadata": {
        "id": "LjYv_LvsaYtg",
        "colab_type": "code",
        "colab": {}
      },
      "cell_type": "code",
      "source": [
        ""
      ],
      "execution_count": 0,
      "outputs": []
    }
  ]
}