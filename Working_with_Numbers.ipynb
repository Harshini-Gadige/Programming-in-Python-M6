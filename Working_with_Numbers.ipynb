{
  "nbformat": 4,
  "nbformat_minor": 0,
  "metadata": {
    "colab": {
      "name": "Working with Numbers",
      "version": "0.3.2",
      "provenance": []
    },
    "kernelspec": {
      "name": "python3",
      "display_name": "Python 3"
    }
  },
  "cells": [
    {
      "metadata": {
        "id": "eDa2cmNr6Kan",
        "colab_type": "text"
      },
      "cell_type": "markdown",
      "source": [
        "**1) Romer Temperature**"
      ]
    },
    {
      "metadata": {
        "id": "cDwKjjp46OPA",
        "colab_type": "code",
        "colab": {}
      },
      "cell_type": "code",
      "source": [
        "def celsius_to_romer(temp):\n",
        "    return temp*21/40+7.5"
      ],
      "execution_count": 0,
      "outputs": []
    },
    {
      "metadata": {
        "id": "kvOANfkq6tjC",
        "colab_type": "code",
        "colab": {
          "base_uri": "https://localhost:8080/",
          "height": 34
        },
        "outputId": "a57aae3f-895c-4f42-a772-fef00225198d"
      },
      "cell_type": "code",
      "source": [
        "celsius_to_romer(24)"
      ],
      "execution_count": 25,
      "outputs": [
        {
          "output_type": "execute_result",
          "data": {
            "text/plain": [
              "20.1"
            ]
          },
          "metadata": {
            "tags": []
          },
          "execution_count": 25
        }
      ]
    },
    {
      "metadata": {
        "id": "X_kRcVHz7O-q",
        "colab_type": "text"
      },
      "cell_type": "markdown",
      "source": [
        "**2) Pixel art planning**"
      ]
    },
    {
      "metadata": {
        "id": "wLme2FQq7jS1",
        "colab_type": "code",
        "colab": {}
      },
      "cell_type": "code",
      "source": [
        "def is_divisible(wall_length, pixel_size):\n",
        "    return wall_length%pixel_size == 0"
      ],
      "execution_count": 0,
      "outputs": []
    },
    {
      "metadata": {
        "id": "AvMTi2Ac8Wgr",
        "colab_type": "code",
        "colab": {
          "base_uri": "https://localhost:8080/",
          "height": 34
        },
        "outputId": "c9c0a227-6253-4370-b7cc-5c3788c9f04a"
      },
      "cell_type": "code",
      "source": [
        "is_divisible(4050,27)"
      ],
      "execution_count": 27,
      "outputs": [
        {
          "output_type": "execute_result",
          "data": {
            "text/plain": [
              "True"
            ]
          },
          "metadata": {
            "tags": []
          },
          "execution_count": 27
        }
      ]
    },
    {
      "metadata": {
        "id": "4oPCXki98mNG",
        "colab_type": "text"
      },
      "cell_type": "markdown",
      "source": [
        "**3) Blue and red marbles**"
      ]
    },
    {
      "metadata": {
        "id": "BQJMJp-18qvd",
        "colab_type": "code",
        "colab": {}
      },
      "cell_type": "code",
      "source": [
        "def guess_blue(blue_start, red_start, blue_pulled, red_pulled):\n",
        "    return (blue_start - blue_pulled)/((blue_start - blue_pulled) + (red_start - red_pulled))"
      ],
      "execution_count": 0,
      "outputs": []
    },
    {
      "metadata": {
        "id": "Qggrb5kc9924",
        "colab_type": "code",
        "colab": {
          "base_uri": "https://localhost:8080/",
          "height": 34
        },
        "outputId": "f9a03519-7ff8-403e-b1f2-3eb1f38fc7bb"
      },
      "cell_type": "code",
      "source": [
        "guess_blue(5,5,2,3)"
      ],
      "execution_count": 29,
      "outputs": [
        {
          "output_type": "execute_result",
          "data": {
            "text/plain": [
              "0.6"
            ]
          },
          "metadata": {
            "tags": []
          },
          "execution_count": 29
        }
      ]
    },
    {
      "metadata": {
        "id": "TnCrekWM-Rl-",
        "colab_type": "text"
      },
      "cell_type": "markdown",
      "source": [
        "**4) Congo Pizza**"
      ]
    },
    {
      "metadata": {
        "id": "9INlWjdO-T_1",
        "colab_type": "code",
        "colab": {}
      },
      "cell_type": "code",
      "source": [
        "#Method 1\n",
        "def box_capacity(length, width, height):\n",
        "    box_accross = length*12/16\n",
        "    box_deep = width*12/16\n",
        "    box_high = height*12/16\n",
        "    return int(box_accross)*int(box_deep)*int(box_high)"
      ],
      "execution_count": 0,
      "outputs": []
    },
    {
      "metadata": {
        "id": "0wowlSXGAFbT",
        "colab_type": "code",
        "colab": {
          "base_uri": "https://localhost:8080/",
          "height": 34
        },
        "outputId": "dd8682cb-c3cd-485a-85fa-7e1639ab5187"
      },
      "cell_type": "code",
      "source": [
        "box_capacity(32,64,16)"
      ],
      "execution_count": 32,
      "outputs": [
        {
          "output_type": "execute_result",
          "data": {
            "text/plain": [
              "13824"
            ]
          },
          "metadata": {
            "tags": []
          },
          "execution_count": 32
        }
      ]
    },
    {
      "metadata": {
        "id": "Qy6xM1ohAJVG",
        "colab_type": "code",
        "colab": {}
      },
      "cell_type": "code",
      "source": [
        "#Method 2\n",
        "def box_capacity(length, width, height):\n",
        "  return (length*12//16)*(width*12//16)*(height*12//16)"
      ],
      "execution_count": 0,
      "outputs": []
    },
    {
      "metadata": {
        "id": "xC206d8nBcxk",
        "colab_type": "code",
        "colab": {
          "base_uri": "https://localhost:8080/",
          "height": 34
        },
        "outputId": "56ab3655-d7ca-4704-98cf-8f521866a7dc"
      },
      "cell_type": "code",
      "source": [
        "box_capacity(32,64,16)"
      ],
      "execution_count": 34,
      "outputs": [
        {
          "output_type": "execute_result",
          "data": {
            "text/plain": [
              "13824"
            ]
          },
          "metadata": {
            "tags": []
          },
          "execution_count": 34
        }
      ]
    },
    {
      "metadata": {
        "id": "_I59yuWSBmHB",
        "colab_type": "text"
      },
      "cell_type": "markdown",
      "source": [
        "**5) Quadratic Formula**"
      ]
    },
    {
      "metadata": {
        "id": "IU14JVLpBq-w",
        "colab_type": "code",
        "colab": {}
      },
      "cell_type": "code",
      "source": [
        "import math\n",
        "def quadratic_formula(a, b, c):\n",
        "    \n",
        "    root1 = (-b + math.sqrt(b**2-(4*a*c)))/(2*a)\n",
        "    \n",
        "    root2 = (-b - math.sqrt(b**2-(4*a*c)))/(2*a)\n",
        "    \n",
        "    return [root1, root2]\n"
      ],
      "execution_count": 0,
      "outputs": []
    },
    {
      "metadata": {
        "id": "gtSuv9PlEFJm",
        "colab_type": "code",
        "colab": {
          "base_uri": "https://localhost:8080/",
          "height": 34
        },
        "outputId": "53bfa3d7-84d1-4f50-ef7c-e11a609d49b8"
      },
      "cell_type": "code",
      "source": [
        "quadratic_formula(2,16,1)"
      ],
      "execution_count": 36,
      "outputs": [
        {
          "output_type": "execute_result",
          "data": {
            "text/plain": [
              "[-0.06299606299409444, -7.937003937005906]"
            ]
          },
          "metadata": {
            "tags": []
          },
          "execution_count": 36
        }
      ]
    },
    {
      "metadata": {
        "id": "nLoNnyM6EKsm",
        "colab_type": "code",
        "colab": {}
      },
      "cell_type": "code",
      "source": [
        ""
      ],
      "execution_count": 0,
      "outputs": []
    }
  ]
}