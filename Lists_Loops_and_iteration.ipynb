{
  "nbformat": 4,
  "nbformat_minor": 0,
  "metadata": {
    "colab": {
      "name": "Lists Loops and iteration.ipynb",
      "version": "0.3.2",
      "provenance": []
    },
    "kernelspec": {
      "name": "python3",
      "display_name": "Python 3"
    }
  },
  "cells": [
    {
      "metadata": {
        "id": "2fgjBpfJyFuj",
        "colab_type": "text"
      },
      "cell_type": "markdown",
      "source": [
        "**1) Longest Word**"
      ]
    },
    {
      "metadata": {
        "id": "Mg5-nBRNmmn2",
        "colab_type": "code",
        "colab": {}
      },
      "cell_type": "code",
      "source": [
        "def longest(words):\n",
        "  return max(len(word) for word in words)"
      ],
      "execution_count": 0,
      "outputs": []
    },
    {
      "metadata": {
        "id": "DZmWDAEGm4EM",
        "colab_type": "code",
        "colab": {
          "base_uri": "https://localhost:8080/",
          "height": 34
        },
        "outputId": "830647a1-11fb-40db-af02-44a6d1ae7123"
      },
      "cell_type": "code",
      "source": [
        "longest([\"Hello\",\"Hi\",\"How\",\"are\",\"aslfjsfjsll\"])"
      ],
      "execution_count": 110,
      "outputs": [
        {
          "output_type": "execute_result",
          "data": {
            "text/plain": [
              "11"
            ]
          },
          "metadata": {
            "tags": []
          },
          "execution_count": 110
        }
      ]
    },
    {
      "metadata": {
        "id": "jfFp0aAG0K4j",
        "colab_type": "text"
      },
      "cell_type": "markdown",
      "source": [
        "**2) Grade Calculator**"
      ]
    },
    {
      "metadata": {
        "id": "PVFKX8ppnR_i",
        "colab_type": "code",
        "colab": {}
      },
      "cell_type": "code",
      "source": [
        "def calculate_grade(scores):\n",
        "    mean = sum(scores)/len(scores)\n",
        "    if mean >= 90 and mean <= 100:\n",
        "        return \"A\"\n",
        "    elif mean >= 80 and mean < 90:\n",
        "        return \"B\"\n",
        "    elif mean >= 70 and mean < 80:\n",
        "        return \"C\"\n",
        "    elif mean >= 60 and mean < 70:\n",
        "        return \"D\"\n",
        "    else:\n",
        "        return \"F\""
      ],
      "execution_count": 0,
      "outputs": []
    },
    {
      "metadata": {
        "id": "rPnVRfX2nV--",
        "colab_type": "code",
        "colab": {
          "base_uri": "https://localhost:8080/",
          "height": 34
        },
        "outputId": "424a1a50-f937-4fd6-b52b-659d7bc3228a"
      },
      "cell_type": "code",
      "source": [
        "calculate_grade([50,60,70,80,90])"
      ],
      "execution_count": 112,
      "outputs": [
        {
          "output_type": "execute_result",
          "data": {
            "text/plain": [
              "'C'"
            ]
          },
          "metadata": {
            "tags": []
          },
          "execution_count": 112
        }
      ]
    },
    {
      "metadata": {
        "id": "P0T7995C15dM",
        "colab_type": "text"
      },
      "cell_type": "markdown",
      "source": [
        "**3) Lists of lists**"
      ]
    },
    {
      "metadata": {
        "id": "r3lQ1km_19lB",
        "colab_type": "code",
        "colab": {}
      },
      "cell_type": "code",
      "source": [
        "def process_data(data):\n",
        "    prod = 1\n",
        "    for li in data:\n",
        "        diff = li[0] - li[1]\n",
        "        prod *= diff\n",
        "    return prod"
      ],
      "execution_count": 0,
      "outputs": []
    },
    {
      "metadata": {
        "id": "GCgR8zUz3E5q",
        "colab_type": "code",
        "colab": {
          "base_uri": "https://localhost:8080/",
          "height": 34
        },
        "outputId": "9814ac19-2471-429d-fa60-9856270f29de"
      },
      "cell_type": "code",
      "source": [
        "data = [[2, 5], [3, 4], [8, 7]]\n",
        "process_data(data)"
      ],
      "execution_count": 114,
      "outputs": [
        {
          "output_type": "execute_result",
          "data": {
            "text/plain": [
              "3"
            ]
          },
          "metadata": {
            "tags": []
          },
          "execution_count": 114
        }
      ]
    },
    {
      "metadata": {
        "id": "IlmNZTme4BYm",
        "colab_type": "text"
      },
      "cell_type": "markdown",
      "source": [
        "**4) Inverse Slicer**"
      ]
    },
    {
      "metadata": {
        "id": "ij5ctVhJ4D6M",
        "colab_type": "code",
        "colab": {}
      },
      "cell_type": "code",
      "source": [
        "#method 1\n",
        "def inverse_slice(items, a, b):\n",
        "    l1 = items[:a]\n",
        "    l2 = items[b:]\n",
        "    return l1 + l2\n",
        "    \n",
        " "
      ],
      "execution_count": 0,
      "outputs": []
    },
    {
      "metadata": {
        "id": "AHBi1ZOr4kcw",
        "colab_type": "code",
        "colab": {
          "base_uri": "https://localhost:8080/",
          "height": 34
        },
        "outputId": "cf10b0cc-fc79-454e-ffce-d065560aef7c"
      },
      "cell_type": "code",
      "source": [
        "inverse_slice([12, 14, 63, 72, 55, 24], 2, 4)"
      ],
      "execution_count": 116,
      "outputs": [
        {
          "output_type": "execute_result",
          "data": {
            "text/plain": [
              "[12, 14, 55, 24]"
            ]
          },
          "metadata": {
            "tags": []
          },
          "execution_count": 116
        }
      ]
    },
    {
      "metadata": {
        "id": "_D94omMH4p0E",
        "colab_type": "code",
        "colab": {}
      },
      "cell_type": "code",
      "source": [
        "#method 2\n",
        "def inverse_slice(items, a, b):\n",
        "    return list(i for i in items if items.index(i) not in range(a,b))\n",
        " \n",
        " "
      ],
      "execution_count": 0,
      "outputs": []
    },
    {
      "metadata": {
        "id": "psrz0hca861G",
        "colab_type": "code",
        "colab": {
          "base_uri": "https://localhost:8080/",
          "height": 34
        },
        "outputId": "1cc63288-c051-44da-d4c0-4ab3b49b992e"
      },
      "cell_type": "code",
      "source": [
        "inverse_slice([12, 14, 63, 72, 55, 24], 2, 4)"
      ],
      "execution_count": 118,
      "outputs": [
        {
          "output_type": "execute_result",
          "data": {
            "text/plain": [
              "[12, 14, 55, 24]"
            ]
          },
          "metadata": {
            "tags": []
          },
          "execution_count": 118
        }
      ]
    },
    {
      "metadata": {
        "id": "otB6wrmZ88Ro",
        "colab_type": "code",
        "colab": {}
      },
      "cell_type": "code",
      "source": [
        ""
      ],
      "execution_count": 0,
      "outputs": []
    },
    {
      "metadata": {
        "id": "mimEmSoYABzn",
        "colab_type": "code",
        "colab": {}
      },
      "cell_type": "code",
      "source": [
        ""
      ],
      "execution_count": 0,
      "outputs": []
    },
    {
      "metadata": {
        "id": "JQFxWhZUBTaI",
        "colab_type": "code",
        "colab": {}
      },
      "cell_type": "code",
      "source": [
        ""
      ],
      "execution_count": 0,
      "outputs": []
    }
  ]
}