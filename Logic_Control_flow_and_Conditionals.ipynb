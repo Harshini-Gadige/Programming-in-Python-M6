{
  "nbformat": 4,
  "nbformat_minor": 0,
  "metadata": {
    "colab": {
      "name": "Logic Control flow and Conditionals.ipynb",
      "version": "0.3.2",
      "provenance": []
    },
    "kernelspec": {
      "name": "python3",
      "display_name": "Python 3"
    }
  },
  "cells": [
    {
      "metadata": {
        "id": "JRe4ClJ3bthb",
        "colab_type": "text"
      },
      "cell_type": "markdown",
      "source": [
        "**1) Traffic Light**"
      ]
    },
    {
      "metadata": {
        "id": "E91l62tYbv6C",
        "colab_type": "code",
        "colab": {}
      },
      "cell_type": "code",
      "source": [
        "def update_light(current):\n",
        "    if current == \"green\":\n",
        "        return \"yellow\"\n",
        "    elif current == \"red\":\n",
        "        return \"green\"\n",
        "    elif current == \"yellow\":\n",
        "        return \"red\"\n",
        "    else:\n",
        "        return \"not a valid traffic light\""
      ],
      "execution_count": 0,
      "outputs": []
    },
    {
      "metadata": {
        "id": "5rBnIagbcdQ0",
        "colab_type": "code",
        "outputId": "a4251e1e-bb82-4eaf-f5d3-a66c6c0a3006",
        "colab": {
          "base_uri": "https://localhost:8080/",
          "height": 34
        }
      },
      "cell_type": "code",
      "source": [
        "update_light(\"yellow\")\n",
        "\n",
        "\n"
      ],
      "execution_count": 35,
      "outputs": [
        {
          "output_type": "execute_result",
          "data": {
            "text/plain": [
              "'red'"
            ]
          },
          "metadata": {
            "tags": []
          },
          "execution_count": 35
        }
      ]
    },
    {
      "metadata": {
        "id": "sQ9cVrjImWQF",
        "colab_type": "text"
      },
      "cell_type": "markdown",
      "source": [
        "**2) Umbrella Decider**"
      ]
    },
    {
      "metadata": {
        "id": "JM6Bi27xmZFY",
        "colab_type": "code",
        "colab": {}
      },
      "cell_type": "code",
      "source": [
        "def take_umbrella(weather, rain_chance):\n",
        "    return (weather == \"rainy\") or (weather == \"cloudy\" and (rain_chance > 0.20 and rain_chance <= 1.0)) or (weather == \"sunny\" and (rain_chance > 0.50 and rain_chance <= 1.0))\n",
        "\n",
        "        \n",
        "        "
      ],
      "execution_count": 0,
      "outputs": []
    },
    {
      "metadata": {
        "id": "PeICTXFUqGmq",
        "colab_type": "code",
        "colab": {
          "base_uri": "https://localhost:8080/",
          "height": 34
        },
        "outputId": "c9da3d93-033b-4a4e-f420-402e3709ea50"
      },
      "cell_type": "code",
      "source": [
        "take_umbrella('sunny',0.40)"
      ],
      "execution_count": 37,
      "outputs": [
        {
          "output_type": "execute_result",
          "data": {
            "text/plain": [
              "False"
            ]
          },
          "metadata": {
            "tags": []
          },
          "execution_count": 37
        }
      ]
    },
    {
      "metadata": {
        "id": "wH9uxZhWtoTU",
        "colab_type": "text"
      },
      "cell_type": "markdown",
      "source": [
        "**3) Graceful Addition**"
      ]
    },
    {
      "metadata": {
        "id": "keiWt8Tftw2-",
        "colab_type": "code",
        "colab": {}
      },
      "cell_type": "code",
      "source": [
        "def my_add(a, b):\n",
        "    try:\n",
        "        return a + b\n",
        "    except TypeError:\n",
        "        return None"
      ],
      "execution_count": 0,
      "outputs": []
    },
    {
      "metadata": {
        "id": "-jBq23BDvXhC",
        "colab_type": "text"
      },
      "cell_type": "markdown",
      "source": [
        "**4) Red and Bumpy**"
      ]
    },
    {
      "metadata": {
        "id": "47NR0zLruYmc",
        "colab_type": "code",
        "colab": {}
      },
      "cell_type": "code",
      "source": [
        "def color_probability(color, texture):\n",
        "    if (texture == \"smooth\") and (color == \"red\" or color == \"yellow\" or color == \"green\"):\n",
        "        return (\"%.2f\" % (1/3))\n",
        "    elif texture == \"bumpy\" and color == \"yellow\":\n",
        "        #return (\"%.2f\" % (2/7))\n",
        "        return str(2/7)[:4]\n",
        "    elif texture == \"bumpy\" and color == \"red\":\n",
        "        #return (\"%.2f\" % (4/7))\n",
        "        return str(4/7)[:4]\n",
        "    elif texture == \"bumpy\" and color == \"green\":\n",
        "        #return (\"%.2f\" % (1/7))\n",
        "        return str(1/7)[:4]\n",
        "    else:\n",
        "        return \"Not a valid one\"\n",
        "          \n",
        "        "
      ],
      "execution_count": 0,
      "outputs": []
    },
    {
      "metadata": {
        "id": "KgssDEgSypns",
        "colab_type": "code",
        "colab": {
          "base_uri": "https://localhost:8080/",
          "height": 34
        },
        "outputId": "ef6d454e-c285-483e-e9b8-e7d1eb317ebb"
      },
      "cell_type": "code",
      "source": [
        "color_probability(\"yellow\", \"bumpy\")"
      ],
      "execution_count": 72,
      "outputs": [
        {
          "output_type": "execute_result",
          "data": {
            "text/plain": [
              "'0.28'"
            ]
          },
          "metadata": {
            "tags": []
          },
          "execution_count": 72
        }
      ]
    },
    {
      "metadata": {
        "id": "p4J5NRMI_0Te",
        "colab_type": "text"
      },
      "cell_type": "markdown",
      "source": [
        ""
      ]
    },
    {
      "metadata": {
        "id": "X05Gr7ru-PGg",
        "colab_type": "text"
      },
      "cell_type": "markdown",
      "source": [
        "**5) Hacking p-hackers**"
      ]
    },
    {
      "metadata": {
        "id": "AfjZVGWb-U0s",
        "colab_type": "code",
        "colab": {}
      },
      "cell_type": "code",
      "source": [
        "def categorize_study(p_value, requirements):\n",
        "    study_value = p_value * (2**(6-requirements))\n",
        "    \n",
        "    if study_value < 0.05 and requirements != 0:\n",
        "        return \"Fine\"\n",
        "    elif study_value < 0.05 and requirements == 0:\n",
        "        return \"Needs review\"\n",
        "    elif study_value > 0.05 and study_value < 0.15:\n",
        "        return \"Needs review\"\n",
        "    else:\n",
        "        return \"Pants on fire\""
      ],
      "execution_count": 0,
      "outputs": []
    },
    {
      "metadata": {
        "id": "_Do4SP0UDveY",
        "colab_type": "code",
        "colab": {}
      },
      "cell_type": "code",
      "source": [
        ""
      ],
      "execution_count": 0,
      "outputs": []
    }
  ]
}