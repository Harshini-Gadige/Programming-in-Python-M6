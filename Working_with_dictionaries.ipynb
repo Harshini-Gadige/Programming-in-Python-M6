{
  "nbformat": 4,
  "nbformat_minor": 0,
  "metadata": {
    "colab": {
      "name": "Working with dictionaries.ipynb",
      "version": "0.3.2",
      "provenance": []
    },
    "kernelspec": {
      "name": "python3",
      "display_name": "Python 3"
    }
  },
  "cells": [
    {
      "metadata": {
        "id": "1PTLWs6xO1Lb",
        "colab_type": "text"
      },
      "cell_type": "markdown",
      "source": [
        "**1) Order filler**"
      ]
    },
    {
      "metadata": {
        "id": "HoDWKeuxO5cb",
        "colab_type": "code",
        "colab": {}
      },
      "cell_type": "code",
      "source": [
        "def fillable(stock, merch, n):\n",
        "    return merch in stock and stock[merch] >= n"
      ],
      "execution_count": 0,
      "outputs": []
    },
    {
      "metadata": {
        "id": "tkUbDhhEPCPm",
        "colab_type": "text"
      },
      "cell_type": "markdown",
      "source": [
        "**2) User Contacts**"
      ]
    },
    {
      "metadata": {
        "id": "_S9CvYgXRO1w",
        "colab_type": "code",
        "colab": {}
      },
      "cell_type": "code",
      "source": [
        "def user_contacts(data):\n",
        "    di = {}\n",
        "    for item in data:\n",
        "        if len(item) == 2:\n",
        "            di[item[0]] = item[1]\n",
        "        else:\n",
        "            di[item[0]] = None\n",
        "    return di\n",
        "        "
      ],
      "execution_count": 0,
      "outputs": []
    },
    {
      "metadata": {
        "id": "9EGvyCtqRZKp",
        "colab_type": "text"
      },
      "cell_type": "markdown",
      "source": [
        "**3) Multiple modes**"
      ]
    },
    {
      "metadata": {
        "id": "cdYTMnxWRbkc",
        "colab_type": "code",
        "colab": {}
      },
      "cell_type": "code",
      "source": [
        "from collections import Counter\n",
        "\n",
        "def modes(data):\n",
        "    cnts = Counter(data)\n",
        "    mx, mn = max(cnts.values()), min(cnts.values())\n",
        "    return sorted([k for k in cnts if cnts[k] == mx and cnts[k] != mn])"
      ],
      "execution_count": 0,
      "outputs": []
    },
    {
      "metadata": {
        "id": "QBDtEUumTpLP",
        "colab_type": "code",
        "colab": {}
      },
      "cell_type": "code",
      "source": [
        ""
      ],
      "execution_count": 0,
      "outputs": []
    }
  ]
}