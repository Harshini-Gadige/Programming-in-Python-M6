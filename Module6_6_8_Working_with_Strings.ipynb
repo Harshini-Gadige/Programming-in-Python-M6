{
  "nbformat": 4,
  "nbformat_minor": 0,
  "metadata": {
    "colab": {
      "name": "Module6_6.8_Working with Strings.ipynb",
      "version": "0.3.2",
      "provenance": [],
      "include_colab_link": true
    },
    "kernelspec": {
      "name": "python3",
      "display_name": "Python 3"
    }
  },
  "cells": [
    {
      "cell_type": "markdown",
      "metadata": {
        "id": "view-in-github",
        "colab_type": "text"
      },
      "source": [
        "<a href=\"https://colab.research.google.com/github/hgadig/Programming-in-Python_Thinkful/blob/master/Module6_6_8_Working_with_Strings.ipynb\" target=\"_parent\"><img src=\"https://colab.research.google.com/assets/colab-badge.svg\" alt=\"Open In Colab\"/></a>"
      ]
    },
    {
      "metadata": {
        "id": "HalpXzLSOngC",
        "colab_type": "text"
      },
      "cell_type": "markdown",
      "source": [
        "\n",
        "\n",
        "```\n",
        "This has answers to all drills from Module 6, Section 6.8 Working with Strings.\n",
        "```\n",
        "\n"
      ]
    },
    {
      "metadata": {
        "id": "QcClosRlO-vp",
        "colab_type": "text"
      },
      "cell_type": "markdown",
      "source": [
        "**1) Hello World**"
      ]
    },
    {
      "metadata": {
        "id": "hym_z8g_K9ZV",
        "colab_type": "code",
        "colab": {}
      },
      "cell_type": "code",
      "source": [
        "#Method 1\n",
        "def hello(name):\n",
        "  return \"Hello, {}\".format(name)\n"
      ],
      "execution_count": 0,
      "outputs": []
    },
    {
      "metadata": {
        "id": "JfW-abFsPfm1",
        "colab_type": "code",
        "colab": {}
      },
      "cell_type": "code",
      "source": [
        "#Method 2\n",
        "def hello(name):\n",
        "  return \"Hello, %s\" % name"
      ],
      "execution_count": 0,
      "outputs": []
    },
    {
      "metadata": {
        "id": "I9pN3xK1P-la",
        "colab_type": "text"
      },
      "cell_type": "markdown",
      "source": [
        "**2) Quotable**"
      ]
    },
    {
      "metadata": {
        "id": "aN_YfzgmQPNE",
        "colab_type": "code",
        "colab": {}
      },
      "cell_type": "code",
      "source": [
        "def quotable(name,quote):\n",
        "  return '{} said: \"{}\"'.format(name,quote)\n",
        "  "
      ],
      "execution_count": 0,
      "outputs": []
    },
    {
      "metadata": {
        "id": "T6PCwIwEREKj",
        "colab_type": "code",
        "colab": {
          "base_uri": "https://localhost:8080/",
          "height": 34
        },
        "outputId": "b51102cc-fb59-411a-f9fd-7845df53602b"
      },
      "cell_type": "code",
      "source": [
        "quotable(\"Harshini\",\"Work Hard\")"
      ],
      "execution_count": 21,
      "outputs": [
        {
          "output_type": "execute_result",
          "data": {
            "text/plain": [
              "'Harshini said: \"Work Hard\"'"
            ]
          },
          "metadata": {
            "tags": []
          },
          "execution_count": 21
        }
      ]
    },
    {
      "metadata": {
        "id": "_VdtBr6wSE3U",
        "colab_type": "text"
      },
      "cell_type": "markdown",
      "source": [
        "***Questions:***\n",
        "1) If we are using double quotes inside, should we only use single quotes for the entire string?\n",
        "2) What is the significance of '\\' in strings? "
      ]
    },
    {
      "metadata": {
        "id": "f_A10yp-Sp63",
        "colab_type": "text"
      },
      "cell_type": "markdown",
      "source": [
        "**3) Repeater**"
      ]
    },
    {
      "metadata": {
        "id": "wAWx6yaISr9O",
        "colab_type": "code",
        "colab": {}
      },
      "cell_type": "code",
      "source": [
        "def repeater(string,n):\n",
        "  return string * n"
      ],
      "execution_count": 0,
      "outputs": []
    },
    {
      "metadata": {
        "id": "HJ60jSWeTQJ8",
        "colab_type": "code",
        "colab": {
          "base_uri": "https://localhost:8080/",
          "height": 34
        },
        "outputId": "0372a772-9693-4b3e-920b-2f78192e3c09"
      },
      "cell_type": "code",
      "source": [
        "repeater(\"Clap\",3)"
      ],
      "execution_count": 24,
      "outputs": [
        {
          "output_type": "execute_result",
          "data": {
            "text/plain": [
              "'ClapClapClap'"
            ]
          },
          "metadata": {
            "tags": []
          },
          "execution_count": 24
        }
      ]
    },
    {
      "metadata": {
        "id": "hY9z4MGlT_vI",
        "colab_type": "text"
      },
      "cell_type": "markdown",
      "source": [
        "**4) Repeater level 2**"
      ]
    },
    {
      "metadata": {
        "id": "LR0IhVTKUDUf",
        "colab_type": "code",
        "colab": {}
      },
      "cell_type": "code",
      "source": [
        "def repeater2(string,n):\n",
        "  return '\"{}\" repeated {} times is: \"{}\"'.format(string,n,string*n)"
      ],
      "execution_count": 0,
      "outputs": []
    },
    {
      "metadata": {
        "id": "2wGmz1zrUiUj",
        "colab_type": "code",
        "colab": {
          "base_uri": "https://localhost:8080/",
          "height": 34
        },
        "outputId": "ff8d70df-5830-4adc-e290-30a8e1d5a359"
      },
      "cell_type": "code",
      "source": [
        "repeater2(\"Yo\",3)"
      ],
      "execution_count": 32,
      "outputs": [
        {
          "output_type": "execute_result",
          "data": {
            "text/plain": [
              "'\"Yo\" repeated 3 times is: \"YoYoYo\"'"
            ]
          },
          "metadata": {
            "tags": []
          },
          "execution_count": 32
        }
      ]
    },
    {
      "metadata": {
        "id": "KlojKdkYVcwj",
        "colab_type": "text"
      },
      "cell_type": "markdown",
      "source": [
        "**5) Jedi Name**"
      ]
    },
    {
      "metadata": {
        "id": "A7Wk0aKLVhOo",
        "colab_type": "code",
        "colab": {}
      },
      "cell_type": "code",
      "source": [
        "def greet_jedi(first,last):\n",
        "  return 'Greetings, master {}{}'.format(last[:3],first[:2])"
      ],
      "execution_count": 0,
      "outputs": []
    },
    {
      "metadata": {
        "id": "_shk4Kf8WaOl",
        "colab_type": "code",
        "colab": {
          "base_uri": "https://localhost:8080/",
          "height": 34
        },
        "outputId": "0fab5199-4338-43c9-a849-1b9db3f930d7"
      },
      "cell_type": "code",
      "source": [
        "greet_jedi('Beyonce', 'Knowles')"
      ],
      "execution_count": 40,
      "outputs": [
        {
          "output_type": "execute_result",
          "data": {
            "text/plain": [
              "'Greetings, master KnoBe'"
            ]
          },
          "metadata": {
            "tags": []
          },
          "execution_count": 40
        }
      ]
    },
    {
      "metadata": {
        "id": "y0JTXZniYNSG",
        "colab_type": "text"
      },
      "cell_type": "markdown",
      "source": [
        "***Question: The above greet_jedi fails one test case in Codewars. PTAL***"
      ]
    },
    {
      "metadata": {
        "id": "rjydDhRVYyJF",
        "colab_type": "text"
      },
      "cell_type": "markdown",
      "source": [
        "**6) Areacode extractor**"
      ]
    },
    {
      "metadata": {
        "id": "zRI5bn86bxlC",
        "colab_type": "code",
        "colab": {}
      },
      "cell_type": "code",
      "source": [
        "def ar(text):\n",
        "  return text[text.find(\"(\")+1:text.find(\")\")]"
      ],
      "execution_count": 0,
      "outputs": []
    },
    {
      "metadata": {
        "id": "Tn-4e0v2cnb9",
        "colab_type": "code",
        "colab": {
          "base_uri": "https://localhost:8080/",
          "height": 34
        },
        "outputId": "c5f7f5fa-5977-4b10-dc7f-4a4c6ea8a0f0"
      },
      "cell_type": "code",
      "source": [
        "ar(\"Oh my god my num is(818)91)\")"
      ],
      "execution_count": 80,
      "outputs": [
        {
          "output_type": "execute_result",
          "data": {
            "text/plain": [
              "'818'"
            ]
          },
          "metadata": {
            "tags": []
          },
          "execution_count": 80
        }
      ]
    },
    {
      "metadata": {
        "id": "g5pQpJNZlKg0",
        "colab_type": "text"
      },
      "cell_type": "markdown",
      "source": [
        "**7) Poem Formatter**"
      ]
    },
    {
      "metadata": {
        "id": "J3BBcm1jldGz",
        "colab_type": "code",
        "colab": {}
      },
      "cell_type": "code",
      "source": [
        "def format_poem(poem):\n",
        "  return \".\\n\".join(poem.split(\". \"))"
      ],
      "execution_count": 0,
      "outputs": []
    },
    {
      "metadata": {
        "id": "TaGjPsMtlh-9",
        "colab_type": "code",
        "colab": {}
      },
      "cell_type": "code",
      "source": [
        "str = \"Beautiful is better than ugly. Explicit is better than implicit. Simple is better than complex. Complex is better than complicated.\"\n",
        "\n"
      ],
      "execution_count": 0,
      "outputs": []
    }
  ]
}